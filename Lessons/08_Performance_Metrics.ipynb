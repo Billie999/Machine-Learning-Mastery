{
 "cells": [
  {
   "cell_type": "markdown",
   "metadata": {},
   "source": [
    "## Machine Learning Algorithm Performance Metrics\n",
    "\n",
    "\n",
    "### Algorithm Evaluation Metrics\n",
    "\n",
    "Various different algorithm evaluation metrics are demonstrated for both classification and regression type machine learning problems. In each recipe, the dataset is downloaded\n",
    "directly from the UCI Machine Learning repository.\n",
    "\n",
    " - For classification metrics, the Pima Indians onset of diabetes dataset is used as demonstration. This is a binary classi cation problem where all of the input variables are\n",
    "numeric.\n",
    "\n",
    " - For regression metrics, the Boston House Price dataset is used as demonstration. this is a regression problem where all of the input variables are also numeric.\n",
    "\n",
    "All recipes evaluate the same algorithms, Logistic Regression for classification and Linear Regression for the regression problems. A 10-fold cross validation test harness is used to\n",
    "demonstrate each metric, because this is the most likely scenario you will use when employing\n",
    "different algorithm evaluation metrics.\n",
    "\n",
    "A caveat in these recipes is the \n",
    "cross validation.cross val score function used to\n",
    "report the performance in each recipe. It does allow the use of different scoring metrics\n",
    "that will be discussed, but all scores are reported so that they can be sorted in ascending\n",
    "order (largest score is best). Some evaluation metrics (like mean squared error) are naturally\n",
    "descending scores (the smallest score is best) and as such are reported as negative by the\n",
    "cross validation.cross val score() function. This is important to note, because some\n",
    "scores will be reported as negative that by definition can never be negative. I will remind you\n",
    "about this caveat as we work through the lesson.\n",
    "You can learn more about machine learning algorithm performance metrics supported by\n",
    "scikit-learn on the page Model evaluation: quantifying the quality of predictions.\n",
    "\n",
    "##### Classification Metrics\n",
    "\n",
    "\n",
    "Classification problems are perhaps the most common type of machine learning problem and as\n",
    "such there are a myriad of metrics that can be used to evaluate predictions for these problems.\n",
    "In this section we will review how to use the following metrics:\n",
    "\n",
    " - Classification Accuracy\n",
    " - Logarithmic Loss\n",
    " - Area Under ROC Curve\n",
    " - Confusion Matrix\n",
    " - Classification Report\n",
    "\n",
    "##### Classification Accuracy\n",
    "\n",
    "It is the number of correct predictions made as a ratio of all predictions\n",
    "made. This is the most common evaluation metric for classification problems, it is also the most\n",
    "misused. It is really only suitable when there are an equal number of observations in each class\n",
    "(which is rarely the case) and that all predictions and prediction errors are equally important,\n",
    "which is often not the case. Below is an example of calculating classification accuracy."
   ]
  },
  {
   "cell_type": "code",
   "execution_count": 1,
   "metadata": {},
   "outputs": [],
   "source": [
    "# Load libraries to ignore warnings\n",
    "%matplotlib inline\n",
    "\n",
    "import warnings\n",
    "warnings.filterwarnings('ignore')\n",
    "warnings.filterwarnings('ignore', category=DeprecationWarning)"
   ]
  },
  {
   "cell_type": "code",
   "execution_count": 3,
   "metadata": {},
   "outputs": [
    {
     "name": "stdout",
     "output_type": "stream",
     "text": [
      "Accuracy: 0.776 (0.045)\n"
     ]
    }
   ],
   "source": [
    "# Cross Validation Classification Accuracy\n",
    "from pandas import read_csv\n",
    "from sklearn.model_selection import KFold\n",
    "from sklearn.model_selection import cross_val_score\n",
    "from sklearn.linear_model import LogisticRegression\n",
    "filename = 'pima-indians-diabetes.data.csv'\n",
    "names = ['preg', 'plas', 'pres', 'skin', 'test', 'mass', 'pedi', 'age', 'class']\n",
    "dataframe = read_csv(filename, names=names)\n",
    "array = dataframe.values\n",
    "X = array[:,0:8]\n",
    "Y = array[:,8]\n",
    "kfold = KFold(n_splits=10, random_state=7, shuffle = True)\n",
    "model = LogisticRegression()\n",
    "scoring = 'accuracy'\n",
    "results = cross_val_score(model, X, Y, cv=kfold, scoring=scoring)\n",
    "print(\"Accuracy: %.3f (%.3f)\" % (results.mean(), results.std()))"
   ]
  },
  {
   "cell_type": "markdown",
   "metadata": {},
   "source": [
    "You can see that the ratio is reported. This can be converted into a percentage by multiplying\n",
    "the value by 100, giving an accuracy score of approximately 78% accurate."
   ]
  },
  {
   "cell_type": "markdown",
   "metadata": {},
   "source": [
    "##### Logarithmic Loss\n",
    "\n",
    "Logarithmic loss (or logloss) is a performance metric for evaluating the predictions of probabilities\n",
    "of membership to a given class. The scalar probability between 0 and 1 can be seen as a measure\n",
    "of confidence for a prediction by an algorithm. Predictions that are correct or incorrect are\n",
    "rewarded or punished proportionally to the confidence of the prediction. Below is an example\n",
    "of calculating logloss for Logistic regression predictions on the Pima Indians onset of diabetes\n",
    "dataset."
   ]
  },
  {
   "cell_type": "code",
   "execution_count": 4,
   "metadata": {},
   "outputs": [
    {
     "name": "stdout",
     "output_type": "stream",
     "text": [
      "Logloss: -0.495 (0.060)\n"
     ]
    }
   ],
   "source": [
    "# Cross Validation Classification LogLoss\n",
    "from pandas import read_csv\n",
    "from sklearn.model_selection import KFold\n",
    "from sklearn.model_selection import cross_val_score\n",
    "from sklearn.linear_model import LogisticRegression\n",
    "filename = 'pima-indians-diabetes.data.csv'\n",
    "names = ['preg', 'plas', 'pres', 'skin', 'test', 'mass', 'pedi', 'age', 'class']\n",
    "dataframe = read_csv(filename, names=names)\n",
    "array = dataframe.values\n",
    "X = array[:,0:8]\n",
    "Y = array[:,8]\n",
    "kfold = KFold(n_splits=10, random_state=7, shuffle = True)\n",
    "model = LogisticRegression()\n",
    "scoring = 'neg_log_loss'\n",
    "results = cross_val_score(model, X, Y, cv=kfold, scoring=scoring)\n",
    "print(\"Logloss: %.3f (%.3f)\" % (results.mean(), results.std()))"
   ]
  },
  {
   "cell_type": "markdown",
   "metadata": {},
   "source": [
    "Smaller logloss is better with 0 representing a perfect logloss. As mentioned above, the\n",
    "measure is inverted to be ascending when using the cross val score() function."
   ]
  },
  {
   "cell_type": "markdown",
   "metadata": {},
   "source": [
    "##### Area Under ROC Curve\n",
    "\n",
    "\n",
    "Area under ROC Curve (or AUC for short) is a performance metric for binary classification\n",
    "problems. The AUC represents a model's ability to discriminate between positive and negative\n",
    "classes. An area of 1.0 represents a model that made all predictions perfectly. An area of\n",
    "0.5 represents a model that is as good as random. ROC can be broken down into sensitivity\n",
    "and specificity. A binary classi cation problem is really a trade-off  between sensitivity and\n",
    "specificity.\n",
    "\n",
    " - Sensitivity is the true positive rate also called the recall. It is the number of instances\n",
    "from the positive (first) class that actually predicted correctly.\n",
    "\n",
    " - Specificity is also called the true negative rate. Is the number of instances from the\n",
    "negative (second) class that were actually predicted correctly."
   ]
  },
  {
   "cell_type": "code",
   "execution_count": 5,
   "metadata": {},
   "outputs": [
    {
     "name": "stdout",
     "output_type": "stream",
     "text": [
      "AUC: 0.823 (0.051)\n"
     ]
    }
   ],
   "source": [
    "# Cross Validation Classification ROC AUC\n",
    "from pandas import read_csv\n",
    "from sklearn.model_selection import KFold\n",
    "from sklearn.model_selection import cross_val_score\n",
    "from sklearn.linear_model import LogisticRegression\n",
    "filename = 'pima-indians-diabetes.data.csv'\n",
    "names = ['preg', 'plas', 'pres', 'skin', 'test', 'mass', 'pedi', 'age', 'class']\n",
    "dataframe = read_csv(filename, names=names)\n",
    "array = dataframe.values\n",
    "X = array[:,0:8]\n",
    "Y = array[:,8]\n",
    "kfold = KFold(n_splits=10, random_state=7, shuffle = True)\n",
    "model = LogisticRegression()\n",
    "scoring = 'roc_auc'\n",
    "results = cross_val_score(model, X, Y, cv=kfold, scoring=scoring)\n",
    "print(\"AUC: %.3f (%.3f)\" % (results.mean(), results.std()))"
   ]
  },
  {
   "cell_type": "markdown",
   "metadata": {},
   "source": [
    "##### Confusion Matrix\n",
    "\n",
    "The confusion matrix is a handy presentation of the accuracy of a model with two or more\n",
    "classes. The table presents predictions on the x-axis and accuracy outcomes on the y-axis. The\n",
    "cells of the table are the number of predictions made by a machine learning algorithm. For\n",
    "example, a machine learning algorithm can predict 0 or 1 and each prediction may actually have\n",
    "been a 0 or 1. Predictions for 0 that were actually 0 appear in the cell for prediction = 0 and\n",
    "actual = 0, whereas predictions for 0 that were actually 1 appear in the cell for prediction = 0\n",
    "and actual = 1. And so on. "
   ]
  },
  {
   "cell_type": "code",
   "execution_count": 6,
   "metadata": {},
   "outputs": [
    {
     "name": "stdout",
     "output_type": "stream",
     "text": [
      "[[142  20]\n",
      " [ 34  58]]\n"
     ]
    }
   ],
   "source": [
    "# Cross Validation Classification Confusion Matrix\n",
    "from pandas import read_csv\n",
    "from sklearn.model_selection import train_test_split\n",
    "from sklearn.linear_model import LogisticRegression\n",
    "from sklearn.metrics import confusion_matrix\n",
    "filename = 'pima-indians-diabetes.data.csv'\n",
    "names = ['preg', 'plas', 'pres', 'skin', 'test', 'mass', 'pedi', 'age', 'class']\n",
    "dataframe = read_csv(filename, names=names)\n",
    "array = dataframe.values\n",
    "X = array[:,0:8]\n",
    "Y = array[:,8]\n",
    "test_size = 0.33\n",
    "seed = 7\n",
    "X_train, X_test, Y_train, Y_test = train_test_split(X, Y, test_size=test_size,\n",
    "random_state=seed)\n",
    "model = LogisticRegression()\n",
    "model.fit(X_train, Y_train)\n",
    "predicted = model.predict(X_test)\n",
    "matrix = confusion_matrix(Y_test, predicted)\n",
    "print(matrix)"
   ]
  },
  {
   "cell_type": "markdown",
   "metadata": {},
   "source": [
    "Although the array is printed without headings, you can see that the majority of the\n",
    "predictions fall on the diagonal line of the matrix (which are correct predictions)."
   ]
  },
  {
   "cell_type": "markdown",
   "metadata": {},
   "source": [
    "##### Classification Report\n",
    "\n",
    "\n",
    "The scikit-learn library provides a convenience report when working on classification problems to give you a quick idea of the accuracy of a model using a number of measures. The\n",
    "classification report() function displays the precision, recall, F1-score and support for each\n",
    "class. "
   ]
  },
  {
   "cell_type": "code",
   "execution_count": 7,
   "metadata": {},
   "outputs": [
    {
     "name": "stdout",
     "output_type": "stream",
     "text": [
      "              precision    recall  f1-score   support\n",
      "\n",
      "         0.0       0.81      0.88      0.84       162\n",
      "         1.0       0.74      0.63      0.68        92\n",
      "\n",
      "    accuracy                           0.79       254\n",
      "   macro avg       0.78      0.75      0.76       254\n",
      "weighted avg       0.78      0.79      0.78       254\n",
      "\n"
     ]
    }
   ],
   "source": [
    "# Cross Validation Classification Report\n",
    "from pandas import read_csv\n",
    "from sklearn.model_selection import train_test_split\n",
    "from sklearn.linear_model import LogisticRegression\n",
    "from sklearn.metrics import classification_report\n",
    "filename = 'pima-indians-diabetes.data.csv'\n",
    "names = ['preg', 'plas', 'pres', 'skin', 'test', 'mass', 'pedi', 'age', 'class']\n",
    "dataframe = read_csv(filename, names=names)\n",
    "array = dataframe.values\n",
    "X = array[:,0:8]\n",
    "Y = array[:,8]\n",
    "test_size = 0.33\n",
    "seed = 7\n",
    "X_train, X_test, Y_train, Y_test = train_test_split(X, Y, test_size=test_size,\n",
    "random_state=seed)\n",
    "model = LogisticRegression()\n",
    "model.fit(X_train, Y_train)\n",
    "predicted = model.predict(X_test)\n",
    "report = classification_report(Y_test, predicted)\n",
    "print(report)"
   ]
  },
  {
   "cell_type": "markdown",
   "metadata": {},
   "source": [
    "#### Regression Metrics\n",
    "\n",
    "In this section will review 3 of the most common metrics for evaluating predictions on regression\n",
    "machine learning problems:\n",
    "\n",
    " - Mean Absolute Error\n",
    " - Mean Squared Error\n",
    " - R2\n",
    "\n",
    "##### Mean Absolute Error\n",
    "\n",
    "The Mean Absolute Error (or MAE) is the sum of the absolute differences between predictions\n",
    "and actual values. It gives an idea of how wrong the predictions were. The measure gives an\n",
    "idea of the magnitude of the error, but no idea of the direction (e.g. over or under predicting).\n",
    "The example below demonstrates calculating mean absolute error on the Boston house price\n",
    "dataset. A value of 0 indicates no error or perfect predictions. Like logloss, this metric is inverted by\n",
    "the cross val score() function.\n",
    "\n",
    "##### Mean Squared Error\n",
    "\n",
    "The Mean Squared Error (or MSE) is much like the mean absolute error in that it provides a\n",
    "gross idea of the magnitude of error. Taking the square root of the mean squared error converts\n",
    "the units back to the original units of the output variable and can be meaningful for description\n",
    "and presentation. This is called the Root Mean Squared Error (or RMSE). The example below\n",
    "provides a demonstration of calculating mean squared error. This metric too is inverted so that the results are increasing. Remember to take the absolute\n",
    "value before taking the square root if you are interested in calculating the RMSE.\n",
    "\n",
    "##### R2 Metric\n",
    "The R2 (or R Squared) metric provides an indication of the goodness of fit of a set of predictions\n",
    "to the actual values. In statistical literature this measure is called the coefficient of determination.\n",
    "This is a value between 0 and 1 for no-fit and perfect fit respectively. The example below\n",
    "provides a demonstration of calculating the mean R2 for a set of predictions."
   ]
  },
  {
   "cell_type": "code",
   "execution_count": 1,
   "metadata": {},
   "outputs": [
    {
     "name": "stdout",
     "output_type": "stream",
     "text": [
      "MAE: -3.387 (0.667)\n",
      "MES: -23.747 ( 11.143)\n",
      "R^2:  0.718 ( 0.099)\n"
     ]
    }
   ],
   "source": [
    "# Cross Validation Regression MAE\n",
    "from pandas import read_csv\n",
    "from sklearn.model_selection import KFold\n",
    "from sklearn.model_selection import cross_val_score\n",
    "from sklearn.linear_model import LinearRegression\n",
    "filename = 'housing.csv'\n",
    "names = ['CRIM', 'ZN', 'INDUS', 'CHAS', 'NOX', 'RM', 'AGE', 'DIS', 'RAD', 'TAX', 'PTRATIO',\n",
    "'B', 'LSTAT', 'MEDV']\n",
    "dataframe = read_csv(filename, names=names)\n",
    "array = dataframe.values\n",
    "X = array[:,0:13]\n",
    "Y = array[:,13]\n",
    "kfold = KFold(n_splits=10, random_state=7, shuffle = True)\n",
    "model = LinearRegression()\n",
    "\n",
    "scoring = 'neg_mean_absolute_error'\n",
    "results = cross_val_score(model, X, Y, cv=kfold, scoring=scoring)\n",
    "print(\"MAE: %.3f (%.3f)\" % (results.mean(), results.std()))\n",
    "\n",
    "scoring = 'neg_mean_squared_error'  \n",
    "results = cross_val_score(model, X, Y, cv=kfold, scoring=scoring)\n",
    "print(\"MES: % .3f (% .3f)\" %(results.mean(), results.std()))\n",
    "\n",
    "scoring = 'r2'  \n",
    "results = cross_val_score(model, X, Y, cv=kfold, scoring=scoring)\n",
    "print(\"R^2: % .3f (% .3f)\" %(results.mean(), results.std()))"
   ]
  }
 ],
 "metadata": {
  "kernelspec": {
   "display_name": "Python 3",
   "language": "python",
   "name": "python3"
  },
  "language_info": {
   "codemirror_mode": {
    "name": "ipython",
    "version": 3
   },
   "file_extension": ".py",
   "mimetype": "text/x-python",
   "name": "python",
   "nbconvert_exporter": "python",
   "pygments_lexer": "ipython3",
   "version": "3.8.5"
  }
 },
 "nbformat": 4,
 "nbformat_minor": 4
}
